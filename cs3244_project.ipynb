{
  "cells": [
    {
      "cell_type": "markdown",
      "metadata": {
        "colab_type": "text",
        "id": "view-in-github"
      },
      "source": [
        "<a href=\"https://colab.research.google.com/github/alyssa-tsh/CS3244_ML_Project/blob/main/cs3244_project.ipynb\" target=\"_parent\"><img src=\"https://colab.research.google.com/assets/colab-badge.svg\" alt=\"Open In Colab\"/></a>"
      ]
    },
    {
      "cell_type": "code",
      "execution_count": 1,
      "metadata": {
        "id": "1U29HV8DBvCi"
      },
      "outputs": [
        {
          "name": "stderr",
          "output_type": "stream",
          "text": [
            "/workspaces/CS3244_ML_Project/.venv/lib/python3.12/site-packages/tqdm/auto.py:21: TqdmWarning: IProgress not found. Please update jupyter and ipywidgets. See https://ipywidgets.readthedocs.io/en/stable/user_install.html\n",
            "  from .autonotebook import tqdm as notebook_tqdm\n"
          ]
        }
      ],
      "source": [
        "from functions import data_pipeline"
      ]
    },
    {
      "cell_type": "code",
      "execution_count": 2,
      "metadata": {},
      "outputs": [
        {
          "name": "stdout",
          "output_type": "stream",
          "text": [
            "Loading data\n",
            "Downloading from https://www.kaggle.com/api/v1/datasets/download/rikdifos/credit-card-approval-prediction?dataset_version_number=3&file_name=application_record.csv...\n"
          ]
        },
        {
          "name": "stderr",
          "output_type": "stream",
          "text": [
            "100%|██████████| 3.04M/3.04M [00:01<00:00, 2.48MB/s]"
          ]
        },
        {
          "name": "stdout",
          "output_type": "stream",
          "text": [
            "Extracting zip of application_record.csv...\n"
          ]
        },
        {
          "name": "stderr",
          "output_type": "stream",
          "text": [
            "\n"
          ]
        },
        {
          "name": "stdout",
          "output_type": "stream",
          "text": [
            "Downloading from https://www.kaggle.com/api/v1/datasets/download/rikdifos/credit-card-approval-prediction?dataset_version_number=3&file_name=credit_record.csv...\n"
          ]
        },
        {
          "name": "stderr",
          "output_type": "stream",
          "text": [
            "100%|██████████| 2.28M/2.28M [00:01<00:00, 1.97MB/s]"
          ]
        },
        {
          "name": "stdout",
          "output_type": "stream",
          "text": [
            "Extracting zip of credit_record.csv...\n"
          ]
        },
        {
          "name": "stderr",
          "output_type": "stream",
          "text": [
            "\n"
          ]
        },
        {
          "name": "stdout",
          "output_type": "stream",
          "text": [
            "Splitting data\n",
            "Total unique accounts: 45985. Starting to find cutoff point\n",
            "Cutoff month where CDF reaches 80%: -10\n",
            "\n",
            "=== Split based on CDF 80% cutoff ===\n",
            "Cutoff month: -10 (10 months ago)\n",
            "Old accounts (≤ month -10): 37,210 (80.9%)\n",
            "New accounts (> month -10): 8,775 (19.1%)\n",
            "Ratio (old/new): 4.2405\n",
            "Splitting raw credit records\n",
            "Cleaning old accounts credit records - [Length: 996586]\n"
          ]
        },
        {
          "name": "stderr",
          "output_type": "stream",
          "text": [
            "/workspaces/CS3244_ML_Project/functions.py:174: FutureWarning: DataFrameGroupBy.apply operated on the grouping columns. This behavior is deprecated, and in a future version of pandas the grouping columns will be excluded from the operation. Either pass `include_groups=False` to exclude the groupings or explicitly select the grouping columns after groupby to silence this warning.\n",
            "  final_df = df.groupby(['id', 'origination_month']).apply(lambda x: pd.Series({\n"
          ]
        },
        {
          "name": "stdout",
          "output_type": "stream",
          "text": [
            "Cleaning new accounts credit records - [Length: 51989]\n"
          ]
        },
        {
          "name": "stderr",
          "output_type": "stream",
          "text": [
            "/workspaces/CS3244_ML_Project/functions.py:174: FutureWarning: DataFrameGroupBy.apply operated on the grouping columns. This behavior is deprecated, and in a future version of pandas the grouping columns will be excluded from the operation. Either pass `include_groups=False` to exclude the groupings or explicitly select the grouping columns after groupby to silence this warning.\n",
            "  final_df = df.groupby(['id', 'origination_month']).apply(lambda x: pd.Series({\n",
            "/workspaces/CS3244_ML_Project/functions.py:81: FutureWarning: DataFrameGroupBy.apply operated on the grouping columns. This behavior is deprecated, and in a future version of pandas the grouping columns will be excluded from the operation. Either pass `include_groups=False` to exclude the groupings or explicitly select the grouping columns after groupby to silence this warning.\n",
            "  df_dropped=df_sorted.groupby('id', group_keys=False).apply(keep_row)\n"
          ]
        },
        {
          "name": "stdout",
          "output_type": "stream",
          "text": [
            "Cleaning credit data completed\n",
            "Splitting application dataset\n",
            "Starting to clean application records\n",
            "Dropping object columns\n",
            "Completed cleaning raw application records\n",
            "Merging data\n",
            "Engineering target variable to label data\n",
            "Completed old accounts labelling\n",
            "Completed new accounts labelling\n",
            "Old accounts: (37210, 3)\n",
            "New accounts: (8775, 3)\n",
            "Old threshold: 0.19907407407407407\n",
            "New threshold: 0.5786182336182336\n",
            "Merging cleaned application and credit records\n",
            "Train shape: (29264, 28)\n",
            "Test shape: (7193, 28)\n",
            "<class 'pandas.core.frame.DataFrame'>\n",
            "RangeIndex: 29264 entries, 0 to 29263\n",
            "Data columns (total 28 columns):\n",
            " #   Column                       Non-Null Count  Dtype  \n",
            "---  ------                       --------------  -----  \n",
            " 0   id                           29264 non-null  int64  \n",
            " 1   cnt_children                 29264 non-null  int64  \n",
            " 2   amt_income_total             29264 non-null  float64\n",
            " 3   days_birth                   29264 non-null  int64  \n",
            " 4   days_employed                29264 non-null  int64  \n",
            " 5   flag_mobil                   29264 non-null  int64  \n",
            " 6   flag_work_phone              29264 non-null  int64  \n",
            " 7   flag_phone                   29264 non-null  int64  \n",
            " 8   flag_email                   29264 non-null  int64  \n",
            " 9   cnt_fam_members              29264 non-null  int64  \n",
            " 10  cnt_children_encoded         29264 non-null  int64  \n",
            " 11  age                          29264 non-null  int64  \n",
            " 12  age_binned_encoded           29264 non-null  int64  \n",
            " 13  months_employed              29264 non-null  int64  \n",
            " 14  years_employed               29264 non-null  int64  \n",
            " 15  employment_status_encoded    29264 non-null  int64  \n",
            " 16  cnt_fam_members_encoded      29264 non-null  int64  \n",
            " 17  name_income_type_encoded     29264 non-null  int64  \n",
            " 18  name_education_type_encoded  29264 non-null  int64  \n",
            " 19  name_family_status_encoded   29264 non-null  int64  \n",
            " 20  name_housing_type_encoded    29264 non-null  int64  \n",
            " 21  occupation_type_encoded      29264 non-null  int64  \n",
            " 22  gender_encoded               29264 non-null  int64  \n",
            " 23  flag_own_realty_encoded      29264 non-null  int64  \n",
            " 24  flag_own_car_encoded         29264 non-null  int64  \n",
            " 25  amt_income_total_log         29264 non-null  float64\n",
            " 26  risk_score                   29264 non-null  float64\n",
            " 27  label                        29264 non-null  int64  \n",
            "dtypes: float64(3), int64(25)\n",
            "memory usage: 6.3 MB\n",
            "None\n",
            "<class 'pandas.core.frame.DataFrame'>\n",
            "RangeIndex: 7193 entries, 0 to 7192\n",
            "Data columns (total 28 columns):\n",
            " #   Column                       Non-Null Count  Dtype  \n",
            "---  ------                       --------------  -----  \n",
            " 0   id                           7193 non-null   int64  \n",
            " 1   cnt_children                 7193 non-null   int64  \n",
            " 2   amt_income_total             7193 non-null   float64\n",
            " 3   days_birth                   7193 non-null   int64  \n",
            " 4   days_employed                7193 non-null   int64  \n",
            " 5   flag_mobil                   7193 non-null   int64  \n",
            " 6   flag_work_phone              7193 non-null   int64  \n",
            " 7   flag_phone                   7193 non-null   int64  \n",
            " 8   flag_email                   7193 non-null   int64  \n",
            " 9   cnt_fam_members              7193 non-null   int64  \n",
            " 10  cnt_children_encoded         7193 non-null   int64  \n",
            " 11  age                          7193 non-null   int64  \n",
            " 12  age_binned_encoded           7193 non-null   int64  \n",
            " 13  months_employed              7193 non-null   int64  \n",
            " 14  years_employed               7193 non-null   int64  \n",
            " 15  employment_status_encoded    7193 non-null   int64  \n",
            " 16  cnt_fam_members_encoded      7193 non-null   int64  \n",
            " 17  name_income_type_encoded     7193 non-null   int64  \n",
            " 18  name_education_type_encoded  7193 non-null   int64  \n",
            " 19  name_family_status_encoded   7193 non-null   int64  \n",
            " 20  name_housing_type_encoded    7193 non-null   int64  \n",
            " 21  occupation_type_encoded      7193 non-null   int64  \n",
            " 22  gender_encoded               7193 non-null   int64  \n",
            " 23  flag_own_realty_encoded      7193 non-null   int64  \n",
            " 24  flag_own_car_encoded         7193 non-null   int64  \n",
            " 25  amt_income_total_log         7193 non-null   float64\n",
            " 26  risk_score                   7193 non-null   float64\n",
            " 27  label                        7193 non-null   int64  \n",
            "dtypes: float64(3), int64(25)\n",
            "memory usage: 1.5 MB\n",
            "None\n",
            "Final train and test processing completed generated successfully\n"
          ]
        }
      ],
      "source": [
        "train, test = data_pipeline()"
      ]
    }
  ],
  "metadata": {
    "colab": {
      "authorship_tag": "ABX9TyPVW1WKkh1bEXudRF2QGP07",
      "include_colab_link": true,
      "provenance": []
    },
    "kernelspec": {
      "display_name": ".venv",
      "language": "python",
      "name": "python3"
    },
    "language_info": {
      "codemirror_mode": {
        "name": "ipython",
        "version": 3
      },
      "file_extension": ".py",
      "mimetype": "text/x-python",
      "name": "python",
      "nbconvert_exporter": "python",
      "pygments_lexer": "ipython3",
      "version": "3.12.1"
    }
  },
  "nbformat": 4,
  "nbformat_minor": 0
}
