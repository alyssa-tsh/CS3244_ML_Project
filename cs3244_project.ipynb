{
  "cells": [
    {
      "cell_type": "markdown",
      "metadata": {
        "colab_type": "text",
        "id": "view-in-github"
      },
      "source": [
        "<a href=\"https://colab.research.google.com/github/alyssa-tsh/CS3244_ML_Project/blob/main/cs3244_project.ipynb\" target=\"_parent\"><img src=\"https://colab.research.google.com/assets/colab-badge.svg\" alt=\"Open In Colab\"/></a>"
      ]
    },
    {
      "cell_type": "code",
      "execution_count": 2,
      "metadata": {
        "id": "1U29HV8DBvCi"
      },
      "outputs": [
        {
          "ename": "ModuleNotFoundError",
          "evalue": "No module named 'model_functions'",
          "output_type": "error",
          "traceback": [
            "\u001b[31m---------------------------------------------------------------------------\u001b[39m",
            "\u001b[31mModuleNotFoundError\u001b[39m                       Traceback (most recent call last)",
            "\u001b[36mCell\u001b[39m\u001b[36m \u001b[39m\u001b[32mIn[2]\u001b[39m\u001b[32m, line 6\u001b[39m\n\u001b[32m      4\u001b[39m \u001b[38;5;28;01mfrom\u001b[39;00m\u001b[38;5;250m \u001b[39m\u001b[34;01msklearn\u001b[39;00m\u001b[34;01m.\u001b[39;00m\u001b[34;01mpipeline\u001b[39;00m\u001b[38;5;250m \u001b[39m\u001b[38;5;28;01mimport\u001b[39;00m Pipeline\n\u001b[32m      5\u001b[39m \u001b[38;5;28;01mimport\u001b[39;00m\u001b[38;5;250m \u001b[39m\u001b[34;01mnumpy\u001b[39;00m\u001b[38;5;250m \u001b[39m\u001b[38;5;28;01mas\u001b[39;00m\u001b[38;5;250m \u001b[39m\u001b[34;01mnp\u001b[39;00m\n\u001b[32m----> \u001b[39m\u001b[32m6\u001b[39m \u001b[38;5;28;01mfrom\u001b[39;00m\u001b[38;5;250m \u001b[39m\u001b[34;01mmodel_functions\u001b[39;00m\u001b[38;5;250m \u001b[39m\u001b[38;5;28;01mimport\u001b[39;00m build_model, build_feature_selector\n",
            "\u001b[31mModuleNotFoundError\u001b[39m: No module named 'model_functions'"
          ]
        }
      ],
      "source": [
        "from functions_ver2 import data_pipeline as data_pipeline_v2, scaling_std\n",
        "from sklearn.model_selection import StratifiedKFold\n",
        "from sklearn.metrics import accuracy_score, f1_score, roc_auc_score\n",
        "from sklearn.pipeline import Pipeline\n",
        "import numpy as np\n",
        "from model_functions import build_model, build_feature_selector"
      ]
    },
    {
      "cell_type": "code",
      "execution_count": 4,
      "metadata": {},
      "outputs": [
        {
          "name": "stdout",
          "output_type": "stream",
          "text": [
            "Loading data\n",
            "Splitting data\n",
            "Total unique accounts: 45985. Starting to find cutoff point\n",
            "Cutoff month where CDF reaches 80%: -10\n",
            "\n",
            "=== Split based on CDF 80% cutoff ===\n",
            "Cutoff month: -10 (10 months ago)\n",
            "Old accounts (≤ month -10): 37,210 (80.9%)\n",
            "New accounts (> month -10): 8,775 (19.1%)\n",
            "Ratio (old/new): 4.2405\n",
            "Splitting raw credit records\n",
            "Cleaning old accounts credit records - [Length: 996586]\n"
          ]
        },
        {
          "name": "stderr",
          "output_type": "stream",
          "text": [
            "/workspaces/CS3244_ML_Project/functions_ver2.py:178: FutureWarning: DataFrameGroupBy.apply operated on the grouping columns. This behavior is deprecated, and in a future version of pandas the grouping columns will be excluded from the operation. Either pass `include_groups=False` to exclude the groupings or explicitly select the grouping columns after groupby to silence this warning.\n",
            "  final_df = df.groupby(['id', 'origination_month']).apply(lambda x: pd.Series({\n"
          ]
        },
        {
          "name": "stdout",
          "output_type": "stream",
          "text": [
            "Cleaning new accounts credit records - [Length: 51989]\n"
          ]
        },
        {
          "name": "stderr",
          "output_type": "stream",
          "text": [
            "/workspaces/CS3244_ML_Project/functions_ver2.py:178: FutureWarning: DataFrameGroupBy.apply operated on the grouping columns. This behavior is deprecated, and in a future version of pandas the grouping columns will be excluded from the operation. Either pass `include_groups=False` to exclude the groupings or explicitly select the grouping columns after groupby to silence this warning.\n",
            "  final_df = df.groupby(['id', 'origination_month']).apply(lambda x: pd.Series({\n",
            "/workspaces/CS3244_ML_Project/functions_ver2.py:85: FutureWarning: DataFrameGroupBy.apply operated on the grouping columns. This behavior is deprecated, and in a future version of pandas the grouping columns will be excluded from the operation. Either pass `include_groups=False` to exclude the groupings or explicitly select the grouping columns after groupby to silence this warning.\n",
            "  df_dropped=df_sorted.groupby('id', group_keys=False).apply(keep_row)\n"
          ]
        },
        {
          "name": "stdout",
          "output_type": "stream",
          "text": [
            "Cleaning credit data completed\n",
            "Splitting application dataset\n",
            "Starting to clean application records\n",
            "Dropping object columns\n",
            "Completed cleaning raw application records\n",
            "Merging data\n",
            "Engineering target variable to label data\n",
            "Completed old accounts labelling\n",
            "Completed new accounts labelling\n",
            "Old accounts: (37210, 3)\n",
            "New accounts: (8775, 3)\n",
            "Old threshold: 0.19957457457457456\n",
            "New threshold: 0.5786182336182336\n",
            "Merging cleaned application and credit records\n",
            "Train shape: (29264, 28)\n",
            "Test shape: (7193, 28)\n",
            "<class 'pandas.core.frame.DataFrame'>\n",
            "RangeIndex: 29264 entries, 0 to 29263\n",
            "Data columns (total 28 columns):\n",
            " #   Column                       Non-Null Count  Dtype  \n",
            "---  ------                       --------------  -----  \n",
            " 0   id                           29264 non-null  int64  \n",
            " 1   cnt_children                 29264 non-null  int64  \n",
            " 2   amt_income_total             29264 non-null  float64\n",
            " 3   days_birth                   29264 non-null  int64  \n",
            " 4   days_employed                29264 non-null  int64  \n",
            " 5   flag_mobil                   29264 non-null  int64  \n",
            " 6   flag_work_phone              29264 non-null  int64  \n",
            " 7   flag_phone                   29264 non-null  int64  \n",
            " 8   flag_email                   29264 non-null  int64  \n",
            " 9   cnt_fam_members              29264 non-null  int64  \n",
            " 10  cnt_children_encoded         29264 non-null  int64  \n",
            " 11  age                          29264 non-null  int64  \n",
            " 12  age_binned_encoded           29264 non-null  int64  \n",
            " 13  months_employed              29264 non-null  int64  \n",
            " 14  years_employed               29264 non-null  int64  \n",
            " 15  employment_status_encoded    29264 non-null  int64  \n",
            " 16  cnt_fam_members_encoded      29264 non-null  int64  \n",
            " 17  name_income_type_encoded     29264 non-null  int64  \n",
            " 18  name_education_type_encoded  29264 non-null  int64  \n",
            " 19  name_family_status_encoded   29264 non-null  int64  \n",
            " 20  name_housing_type_encoded    29264 non-null  int64  \n",
            " 21  occupation_type_encoded      29264 non-null  int64  \n",
            " 22  gender_encoded               29264 non-null  int64  \n",
            " 23  flag_own_realty_encoded      29264 non-null  int64  \n",
            " 24  flag_own_car_encoded         29264 non-null  int64  \n",
            " 25  amt_income_total_log         29264 non-null  float64\n",
            " 26  risk_score                   29264 non-null  float64\n",
            " 27  label                        29264 non-null  int64  \n",
            "dtypes: float64(3), int64(25)\n",
            "memory usage: 6.3 MB\n",
            "None\n",
            "<class 'pandas.core.frame.DataFrame'>\n",
            "RangeIndex: 7193 entries, 0 to 7192\n",
            "Data columns (total 28 columns):\n",
            " #   Column                       Non-Null Count  Dtype  \n",
            "---  ------                       --------------  -----  \n",
            " 0   id                           7193 non-null   int64  \n",
            " 1   cnt_children                 7193 non-null   int64  \n",
            " 2   amt_income_total             7193 non-null   float64\n",
            " 3   days_birth                   7193 non-null   int64  \n",
            " 4   days_employed                7193 non-null   int64  \n",
            " 5   flag_mobil                   7193 non-null   int64  \n",
            " 6   flag_work_phone              7193 non-null   int64  \n",
            " 7   flag_phone                   7193 non-null   int64  \n",
            " 8   flag_email                   7193 non-null   int64  \n",
            " 9   cnt_fam_members              7193 non-null   int64  \n",
            " 10  cnt_children_encoded         7193 non-null   int64  \n",
            " 11  age                          7193 non-null   int64  \n",
            " 12  age_binned_encoded           7193 non-null   int64  \n",
            " 13  months_employed              7193 non-null   int64  \n",
            " 14  years_employed               7193 non-null   int64  \n",
            " 15  employment_status_encoded    7193 non-null   int64  \n",
            " 16  cnt_fam_members_encoded      7193 non-null   int64  \n",
            " 17  name_income_type_encoded     7193 non-null   int64  \n",
            " 18  name_education_type_encoded  7193 non-null   int64  \n",
            " 19  name_family_status_encoded   7193 non-null   int64  \n",
            " 20  name_housing_type_encoded    7193 non-null   int64  \n",
            " 21  occupation_type_encoded      7193 non-null   int64  \n",
            " 22  gender_encoded               7193 non-null   int64  \n",
            " 23  flag_own_realty_encoded      7193 non-null   int64  \n",
            " 24  flag_own_car_encoded         7193 non-null   int64  \n",
            " 25  amt_income_total_log         7193 non-null   float64\n",
            " 26  risk_score                   7193 non-null   float64\n",
            " 27  label                        7193 non-null   int64  \n",
            "dtypes: float64(3), int64(25)\n",
            "memory usage: 1.5 MB\n",
            "None\n",
            "Completed X, y split\n",
            "Final train and test processing completed generated successfully\n"
          ]
        }
      ],
      "source": [
        "X_train_std, y_train, X_train_smote_std, y_train_smote, X_train_smotetomek_std, y_train_smotetomek, X_train_cc_std, y_train_cc, X_test_std, y_test = data_pipeline_v2()"
      ]
    },
    {
      "cell_type": "code",
      "execution_count": 5,
      "metadata": {},
      "outputs": [
        {
          "ename": "NameError",
          "evalue": "name 'build_model' is not defined",
          "output_type": "error",
          "traceback": [
            "\u001b[31m---------------------------------------------------------------------------\u001b[39m",
            "\u001b[31mNameError\u001b[39m                                 Traceback (most recent call last)",
            "\u001b[36mCell\u001b[39m\u001b[36m \u001b[39m\u001b[32mIn[5]\u001b[39m\u001b[32m, line 45\u001b[39m\n\u001b[32m     41\u001b[39m     \u001b[38;5;28;01mreturn\u001b[39;00m results, X_train_full, y_train_full, X_test, y_test\n\u001b[32m     43\u001b[39m \u001b[38;5;66;03m# display(X_train_smote_std)\u001b[39;00m\n\u001b[32m     44\u001b[39m \u001b[38;5;66;03m# display(y_train_smote)\u001b[39;00m\n\u001b[32m---> \u001b[39m\u001b[32m45\u001b[39m results_df, X_train, y_train, X_test, y_test = \u001b[43mmodel_pipeline\u001b[49m\u001b[43m(\u001b[49m\u001b[43mmodel_name\u001b[49m\u001b[43m=\u001b[49m\u001b[33;43m\"\u001b[39;49m\u001b[33;43mXGB\u001b[39;49m\u001b[33;43m\"\u001b[39;49m\u001b[43m,\u001b[49m\u001b[43m \u001b[49m\n\u001b[32m     46\u001b[39m \u001b[43m        \u001b[49m\u001b[43mX_train_full\u001b[49m\u001b[43m=\u001b[49m\u001b[43mX_train_smote_std\u001b[49m\u001b[43m,\u001b[49m\u001b[43m \u001b[49m\u001b[43my_train_full\u001b[49m\u001b[43m=\u001b[49m\u001b[43my_train_smote\u001b[49m\u001b[43m,\u001b[49m\u001b[43m \u001b[49m\u001b[43mtarget_col\u001b[49m\u001b[43m=\u001b[49m\u001b[33;43m\"\u001b[39;49m\u001b[33;43mlabel\u001b[39;49m\u001b[33;43m\"\u001b[39;49m\u001b[43m,\u001b[49m\u001b[43m \u001b[49m\u001b[43mrandom_state\u001b[49m\u001b[43m=\u001b[49m\u001b[32;43m42\u001b[39;49m\n\u001b[32m     47\u001b[39m \u001b[43m    \u001b[49m\u001b[43m)\u001b[49m\n",
            "\u001b[36mCell\u001b[39m\u001b[36m \u001b[39m\u001b[32mIn[5]\u001b[39m\u001b[32m, line 4\u001b[39m, in \u001b[36mmodel_pipeline\u001b[39m\u001b[34m(model_name, X_train_full, y_train_full, target_col, random_state)\u001b[39m\n\u001b[32m      1\u001b[39m \u001b[38;5;28;01mdef\u001b[39;00m\u001b[38;5;250m \u001b[39m\u001b[34mmodel_pipeline\u001b[39m(model_name, X_train_full, y_train_full, target_col=\u001b[33m\"\u001b[39m\u001b[33mlabel\u001b[39m\u001b[33m\"\u001b[39m, random_state=\u001b[32m42\u001b[39m):\n\u001b[32m      2\u001b[39m \n\u001b[32m      3\u001b[39m     \u001b[38;5;66;03m# Model\u001b[39;00m\n\u001b[32m----> \u001b[39m\u001b[32m4\u001b[39m     name, model = \u001b[43mbuild_model\u001b[49m(model_name)\n\u001b[32m      5\u001b[39m     \u001b[38;5;28mprint\u001b[39m(\u001b[33mf\u001b[39m\u001b[33m\"\u001b[39m\u001b[38;5;130;01m\\n\u001b[39;00m\u001b[33mTraining model: \u001b[39m\u001b[38;5;132;01m{\u001b[39;00mname\u001b[38;5;132;01m}\u001b[39;00m\u001b[33m using StratifiedKFold...\u001b[39m\u001b[33m\"\u001b[39m)\n\u001b[32m      7\u001b[39m     \u001b[38;5;66;03m# Stratified K-Fold\u001b[39;00m\n",
            "\u001b[31mNameError\u001b[39m: name 'build_model' is not defined"
          ]
        }
      ],
      "source": [
        "def model_pipeline(model_name, X_train_full, y_train_full, target_col=\"label\", random_state=42):\n",
        "    \n",
        "    # Model\n",
        "    name, model = build_model(model_name)\n",
        "    print(f\"\\nTraining model: {name} using StratifiedKFold...\")\n",
        "\n",
        "    # Stratified K-Fold\n",
        "    skf = StratifiedKFold(n_splits=5, shuffle=True, random_state=random_state)\n",
        "    acc_scores, f1_scores, roc_scores = [], [], []\n",
        "\n",
        "    for fold, (train_idx, val_idx) in enumerate(skf.split(X_train_full, y_train_full), 1):\n",
        "        X_train, X_val = X_train_full.iloc[train_idx], X_train_full.iloc[val_idx]\n",
        "        y_train, y_val = y_train_full.iloc[train_idx], y_train_full.iloc[val_idx]\n",
        "\n",
        "        pipeline = Pipeline([\n",
        "            (\"feature_selector\", build_feature_selector(model_name)),\n",
        "            (\"classifier\", model)\n",
        "        ])\n",
        "        pipeline.fit(X_train, y_train)\n",
        "\n",
        "        y_pred = pipeline.predict(X_val)\n",
        "        y_proba = pipeline.predict_proba(X_val)[:, 1]\n",
        "        \n",
        "\n",
        "        acc_scores.append(accuracy_score(y_val, y_pred))\n",
        "        f1_scores.append(f1_score(y_val, y_pred))\n",
        "        roc_scores.append(roc_auc_score(y_val, y_proba))\n",
        "\n",
        "        print(f\"Fold {fold}: Accuracy={acc_scores[-1]:.3f}, F1={f1_scores[-1]:.3f}, ROC-AUC={roc_scores[-1]:.3f}\")\n",
        "\n",
        "    results = {\n",
        "        \"model\": name,\n",
        "        \"accuracy\": np.mean(acc_scores),\n",
        "        \"f1_score\": np.mean(f1_scores),\n",
        "        \"roc_auc\": np.nanmean(roc_scores)\n",
        "    }\n",
        "\n",
        "    print(f\"\\nFinished training {name} across all folds.\")\n",
        "    print(f\"Average Accuracy: {results['accuracy']:.3f}, F1: {results['f1_score']:.3f}, ROC-AUC: {results['roc_auc']:.3f}\")\n",
        "\n",
        "    return results, X_train_full, y_train_full, X_test, y_test\n",
        "\n",
        "# display(X_train_smote_std)\n",
        "# display(y_train_smote)\n",
        "results_df, X_train, y_train, X_test, y_test = model_pipeline(model_name=\"XGB\", \n",
        "        X_train_full=X_train_smote_std, y_train_full=y_train_smote, target_col=\"label\", random_state=42\n",
        "    )\n",
        "\n"
      ]
    }
  ],
  "metadata": {
    "colab": {
      "authorship_tag": "ABX9TyPVW1WKkh1bEXudRF2QGP07",
      "include_colab_link": true,
      "provenance": []
    },
    "kernelspec": {
      "display_name": ".venv",
      "language": "python",
      "name": "python3"
    },
    "language_info": {
      "codemirror_mode": {
        "name": "ipython",
        "version": 3
      },
      "file_extension": ".py",
      "mimetype": "text/x-python",
      "name": "python",
      "nbconvert_exporter": "python",
      "pygments_lexer": "ipython3",
      "version": "3.12.1"
    }
  },
  "nbformat": 4,
  "nbformat_minor": 0
}
