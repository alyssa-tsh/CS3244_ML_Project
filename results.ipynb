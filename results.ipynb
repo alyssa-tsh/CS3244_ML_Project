{
 "cells": [
  {
   "cell_type": "markdown",
   "id": "c02da174",
   "metadata": {},
   "source": [
    "Training model: XGB Classifier using StratifiedKFold...\n",
    "0.40000000000000013 0.768715317767773\n",
    "Fold 1: Accuracy=0.768, F1=0.769, ROC-AUC=0.855\n",
    "0.40000000000000013 0.787190306177648\n",
    "Fold 2: Accuracy=0.793, F1=0.787, ROC-AUC=0.874\n",
    "0.40000000000000013 0.7712569802971236\n",
    "Fold 3: Accuracy=0.772, F1=0.771, ROC-AUC=0.860\n",
    "0.40000000000000013 0.7689071210686862\n",
    "Fold 4: Accuracy=0.769, F1=0.769, ROC-AUC=0.858\n",
    "0.40000000000000013 0.797045529710065\n",
    "Fold 5: Accuracy=0.807, F1=0.797, ROC-AUC=0.880\n",
    "Number of selected features: 28\n",
    "\n",
    "Best model from Fold 5 selected (ROC-AUC=0.880)\n",
    "\n",
    "Cross-Validation Summary → Accuracy: 0.782, F1: 0.779, ROC-AUC: 0.865\n",
    "\n",
    "Evaluating best-performing model on unseen test set...\n",
    "Test Results → Accuracy=0.830, F1=0.165, ROC-AUC=0.541"
   ]
  },
  {
   "cell_type": "markdown",
   "metadata": {},
   "source": [
    "## NN"
   ]
  },
  {
   "cell_type": "code",
   "execution_count": null,
   "metadata": {
    "vscode": {
     "languageId": "plaintext"
    }
   },
   "outputs": [],
   "source": [
    "/tmp/ipykernel_138808/2482354647.py:62: UserWarning: To copy construct from a tensor, it is recommended to use sourceTensor.detach().clone() or sourceTensor.detach().clone().requires_grad_(True), rather than torch.tensor(sourceTensor).\n",
    "  criterion = nn.BCEWithLogitsLoss(pos_weight=torch.tensor(pos_weight).to(device))\n",
    "Fold 1: Acc=0.693, F1=0.732, ROC-AUC=0.794, Threshold=0.42\n",
    "/tmp/ipykernel_138808/2482354647.py:62: UserWarning: To copy construct from a tensor, it is recommended to use sourceTensor.detach().clone() or sourceTensor.detach().clone().requires_grad_(True), rather than torch.tensor(sourceTensor).\n",
    "  criterion = nn.BCEWithLogitsLoss(pos_weight=torch.tensor(pos_weight).to(device))\n",
    "Fold 2: Acc=0.699, F1=0.735, ROC-AUC=0.800, Threshold=0.42\n",
    "/tmp/ipykernel_138808/2482354647.py:62: UserWarning: To copy construct from a tensor, it is recommended to use sourceTensor.detach().clone() or sourceTensor.detach().clone().requires_grad_(True), rather than torch.tensor(sourceTensor).\n",
    "  criterion = nn.BCEWithLogitsLoss(pos_weight=torch.tensor(pos_weight).to(device))\n",
    "Fold 3: Acc=0.700, F1=0.737, ROC-AUC=0.797, Threshold=0.39\n",
    "/tmp/ipykernel_138808/2482354647.py:62: UserWarning: To copy construct from a tensor, it is recommended to use sourceTensor.detach().clone() or sourceTensor.detach().clone().requires_grad_(True), rather than torch.tensor(sourceTensor).\n",
    "  criterion = nn.BCEWithLogitsLoss(pos_weight=torch.tensor(pos_weight).to(device))\n",
    "Fold 4: Acc=0.722, F1=0.744, ROC-AUC=0.808, Threshold=0.42\n",
    "/tmp/ipykernel_138808/2482354647.py:62: UserWarning: To copy construct from a tensor, it is recommended to use sourceTensor.detach().clone() or sourceTensor.detach().clone().requires_grad_(True), rather than torch.tensor(sourceTensor).\n",
    "  criterion = nn.BCEWithLogitsLoss(pos_weight=torch.tensor(pos_weight).to(device))\n",
    "Fold 5: Acc=0.689, F1=0.738, ROC-AUC=0.804, Threshold=0.33\n",
    "\n",
    "Best model: Fold 4, ROC-AUC=0.808"
   ]
  }
 ],
 "metadata": {
  "language_info": {
   "name": "python"
  }
 },
 "nbformat": 4,
 "nbformat_minor": 5
}
